{
 "cells": [
  {
   "cell_type": "code",
   "execution_count": 1,
   "id": "ec33105b",
   "metadata": {
    "_cell_guid": "b1076dfc-b9ad-4769-8c92-a6c4dae69d19",
    "_uuid": "8f2839f25d086af736a60e9eeb907d3b93b6e0e5",
    "execution": {
     "iopub.execute_input": "2023-09-11T17:56:56.489030Z",
     "iopub.status.busy": "2023-09-11T17:56:56.488321Z",
     "iopub.status.idle": "2023-09-11T17:56:59.190336Z",
     "shell.execute_reply": "2023-09-11T17:56:59.189114Z"
    },
    "papermill": {
     "duration": 2.724781,
     "end_time": "2023-09-11T17:56:59.193089",
     "exception": false,
     "start_time": "2023-09-11T17:56:56.468308",
     "status": "completed"
    },
    "tags": []
   },
   "outputs": [
    {
     "name": "stdout",
     "output_type": "stream",
     "text": [
      "/kaggle/input/movielens/users.dat\n",
      "/kaggle/input/movielens/ratings.dat\n",
      "/kaggle/input/movielens/movies.dat\n"
     ]
    }
   ],
   "source": [
    "# for data analysis\n",
    "import numpy as np\n",
    "import pandas as pd\n",
    "# for data visualization\n",
    "import matplotlib.pyplot as plt\n",
    "import seaborn as sns\n",
    "import plotly\n",
    "# machine learning libraries\n",
    "from sklearn.model_selection import train_test_split\n",
    "from sklearn.metrics import accuracy_score\n",
    "from sklearn.svm import SVC\n",
    "from sklearn.ensemble import RandomForestClassifier\n",
    "from sklearn.neighbors import KNeighborsClassifier\n",
    "from sklearn.tree import DecisionTreeClassifier\n",
    "from sklearn.linear_model import LogisticRegression\n",
    "import os\n",
    "for dirname, _, filenames in os.walk('/kaggle/input'):\n",
    "    for filename in filenames:\n",
    "        print(os.path.join(dirname, filename))"
   ]
  },
  {
   "cell_type": "markdown",
   "id": "b4f5308f",
   "metadata": {
    "papermill": {
     "duration": 0.017207,
     "end_time": "2023-09-11T17:56:59.227271",
     "exception": false,
     "start_time": "2023-09-11T17:56:59.210064",
     "status": "completed"
    },
    "tags": []
   },
   "source": [
    "<font size=\"5\">**Working With Dataset** </font>"
   ]
  },
  {
   "cell_type": "markdown",
   "id": "810a96a9",
   "metadata": {
    "papermill": {
     "duration": 0.016099,
     "end_time": "2023-09-11T17:56:59.260173",
     "exception": false,
     "start_time": "2023-09-11T17:56:59.244074",
     "status": "completed"
    },
    "tags": []
   },
   "source": [
    "**Movies Dataframe**"
   ]
  },
  {
   "cell_type": "code",
   "execution_count": 2,
   "id": "7ed2e197",
   "metadata": {
    "execution": {
     "iopub.execute_input": "2023-09-11T17:56:59.296041Z",
     "iopub.status.busy": "2023-09-11T17:56:59.295507Z",
     "iopub.status.idle": "2023-09-11T17:56:59.361655Z",
     "shell.execute_reply": "2023-09-11T17:56:59.360436Z"
    },
    "papermill": {
     "duration": 0.087447,
     "end_time": "2023-09-11T17:56:59.364091",
     "exception": false,
     "start_time": "2023-09-11T17:56:59.276644",
     "status": "completed"
    },
    "tags": []
   },
   "outputs": [
    {
     "data": {
      "text/html": [
       "<div>\n",
       "<style scoped>\n",
       "    .dataframe tbody tr th:only-of-type {\n",
       "        vertical-align: middle;\n",
       "    }\n",
       "\n",
       "    .dataframe tbody tr th {\n",
       "        vertical-align: top;\n",
       "    }\n",
       "\n",
       "    .dataframe thead th {\n",
       "        text-align: right;\n",
       "    }\n",
       "</style>\n",
       "<table border=\"1\" class=\"dataframe\">\n",
       "  <thead>\n",
       "    <tr style=\"text-align: right;\">\n",
       "      <th></th>\n",
       "      <th>MovieIDs</th>\n",
       "      <th>MovieName</th>\n",
       "      <th>Category</th>\n",
       "    </tr>\n",
       "  </thead>\n",
       "  <tbody>\n",
       "    <tr>\n",
       "      <th>0</th>\n",
       "      <td>2</td>\n",
       "      <td>Jumanji (1995)</td>\n",
       "      <td>Adventure|Children's|Fantasy</td>\n",
       "    </tr>\n",
       "    <tr>\n",
       "      <th>1</th>\n",
       "      <td>3</td>\n",
       "      <td>Grumpier Old Men (1995)</td>\n",
       "      <td>Comedy|Romance</td>\n",
       "    </tr>\n",
       "    <tr>\n",
       "      <th>2</th>\n",
       "      <td>4</td>\n",
       "      <td>Waiting to Exhale (1995)</td>\n",
       "      <td>Comedy|Drama</td>\n",
       "    </tr>\n",
       "    <tr>\n",
       "      <th>3</th>\n",
       "      <td>5</td>\n",
       "      <td>Father of the Bride Part II (1995)</td>\n",
       "      <td>Comedy</td>\n",
       "    </tr>\n",
       "    <tr>\n",
       "      <th>4</th>\n",
       "      <td>6</td>\n",
       "      <td>Heat (1995)</td>\n",
       "      <td>Action|Crime|Thriller</td>\n",
       "    </tr>\n",
       "  </tbody>\n",
       "</table>\n",
       "</div>"
      ],
      "text/plain": [
       "   MovieIDs                           MovieName                      Category\n",
       "0         2                      Jumanji (1995)  Adventure|Children's|Fantasy\n",
       "1         3             Grumpier Old Men (1995)                Comedy|Romance\n",
       "2         4            Waiting to Exhale (1995)                  Comedy|Drama\n",
       "3         5  Father of the Bride Part II (1995)                        Comedy\n",
       "4         6                         Heat (1995)         Action|Crime|Thriller"
      ]
     },
     "execution_count": 2,
     "metadata": {},
     "output_type": "execute_result"
    }
   ],
   "source": [
    "# read the dataset, set column names, drop missing values rows, and display movies dataset\n",
    "movies_df= pd.read_csv('../input/movielens/movies.dat', sep= '::', engine= 'python', encoding='latin-1')\n",
    "movies_df.columns= ['MovieIDs', 'MovieName', 'Category']\n",
    "movies_df.dropna(inplace= True)\n",
    "movies_df.head()"
   ]
  },
  {
   "cell_type": "code",
   "execution_count": 3,
   "id": "fa9e252a",
   "metadata": {
    "execution": {
     "iopub.execute_input": "2023-09-11T17:56:59.399397Z",
     "iopub.status.busy": "2023-09-11T17:56:59.398983Z",
     "iopub.status.idle": "2023-09-11T17:56:59.416705Z",
     "shell.execute_reply": "2023-09-11T17:56:59.415733Z"
    },
    "papermill": {
     "duration": 0.037939,
     "end_time": "2023-09-11T17:56:59.418866",
     "exception": false,
     "start_time": "2023-09-11T17:56:59.380927",
     "status": "completed"
    },
    "tags": []
   },
   "outputs": [
    {
     "data": {
      "text/html": [
       "<div>\n",
       "<style scoped>\n",
       "    .dataframe tbody tr th:only-of-type {\n",
       "        vertical-align: middle;\n",
       "    }\n",
       "\n",
       "    .dataframe tbody tr th {\n",
       "        vertical-align: top;\n",
       "    }\n",
       "\n",
       "    .dataframe thead th {\n",
       "        text-align: right;\n",
       "    }\n",
       "</style>\n",
       "<table border=\"1\" class=\"dataframe\">\n",
       "  <thead>\n",
       "    <tr style=\"text-align: right;\">\n",
       "      <th></th>\n",
       "      <th>MovieIDs</th>\n",
       "    </tr>\n",
       "  </thead>\n",
       "  <tbody>\n",
       "    <tr>\n",
       "      <th>count</th>\n",
       "      <td>3882.000000</td>\n",
       "    </tr>\n",
       "    <tr>\n",
       "      <th>mean</th>\n",
       "      <td>1986.560793</td>\n",
       "    </tr>\n",
       "    <tr>\n",
       "      <th>std</th>\n",
       "      <td>1146.483260</td>\n",
       "    </tr>\n",
       "    <tr>\n",
       "      <th>min</th>\n",
       "      <td>2.000000</td>\n",
       "    </tr>\n",
       "    <tr>\n",
       "      <th>25%</th>\n",
       "      <td>983.250000</td>\n",
       "    </tr>\n",
       "    <tr>\n",
       "      <th>50%</th>\n",
       "      <td>2010.500000</td>\n",
       "    </tr>\n",
       "    <tr>\n",
       "      <th>75%</th>\n",
       "      <td>2980.750000</td>\n",
       "    </tr>\n",
       "    <tr>\n",
       "      <th>max</th>\n",
       "      <td>3952.000000</td>\n",
       "    </tr>\n",
       "  </tbody>\n",
       "</table>\n",
       "</div>"
      ],
      "text/plain": [
       "          MovieIDs\n",
       "count  3882.000000\n",
       "mean   1986.560793\n",
       "std    1146.483260\n",
       "min       2.000000\n",
       "25%     983.250000\n",
       "50%    2010.500000\n",
       "75%    2980.750000\n",
       "max    3952.000000"
      ]
     },
     "execution_count": 3,
     "metadata": {},
     "output_type": "execute_result"
    }
   ],
   "source": [
    "movies_df.describe() # statistical summary"
   ]
  },
  {
   "cell_type": "code",
   "execution_count": 4,
   "id": "75c59919",
   "metadata": {
    "execution": {
     "iopub.execute_input": "2023-09-11T17:56:59.455337Z",
     "iopub.status.busy": "2023-09-11T17:56:59.454545Z",
     "iopub.status.idle": "2023-09-11T17:56:59.482651Z",
     "shell.execute_reply": "2023-09-11T17:56:59.480881Z"
    },
    "papermill": {
     "duration": 0.050474,
     "end_time": "2023-09-11T17:56:59.486772",
     "exception": false,
     "start_time": "2023-09-11T17:56:59.436298",
     "status": "completed"
    },
    "tags": []
   },
   "outputs": [
    {
     "name": "stdout",
     "output_type": "stream",
     "text": [
      "<class 'pandas.core.frame.DataFrame'>\n",
      "RangeIndex: 3882 entries, 0 to 3881\n",
      "Data columns (total 3 columns):\n",
      " #   Column     Non-Null Count  Dtype \n",
      "---  ------     --------------  ----- \n",
      " 0   MovieIDs   3882 non-null   int64 \n",
      " 1   MovieName  3882 non-null   object\n",
      " 2   Category   3882 non-null   object\n",
      "dtypes: int64(1), object(2)\n",
      "memory usage: 91.1+ KB\n"
     ]
    }
   ],
   "source": [
    "movies_df.info() # summary of dataset"
   ]
  },
  {
   "cell_type": "markdown",
   "id": "b29f2866",
   "metadata": {
    "papermill": {
     "duration": 0.017491,
     "end_time": "2023-09-11T17:56:59.522468",
     "exception": false,
     "start_time": "2023-09-11T17:56:59.504977",
     "status": "completed"
    },
    "tags": []
   },
   "source": [
    "**Ratings Dataframe**"
   ]
  },
  {
   "cell_type": "code",
   "execution_count": 5,
   "id": "9672593d",
   "metadata": {
    "execution": {
     "iopub.execute_input": "2023-09-11T17:56:59.559164Z",
     "iopub.status.busy": "2023-09-11T17:56:59.558363Z",
     "iopub.status.idle": "2023-09-11T17:57:08.867775Z",
     "shell.execute_reply": "2023-09-11T17:57:08.866719Z"
    },
    "papermill": {
     "duration": 9.330599,
     "end_time": "2023-09-11T17:57:08.870325",
     "exception": false,
     "start_time": "2023-09-11T17:56:59.539726",
     "status": "completed"
    },
    "tags": []
   },
   "outputs": [
    {
     "data": {
      "text/html": [
       "<div>\n",
       "<style scoped>\n",
       "    .dataframe tbody tr th:only-of-type {\n",
       "        vertical-align: middle;\n",
       "    }\n",
       "\n",
       "    .dataframe tbody tr th {\n",
       "        vertical-align: top;\n",
       "    }\n",
       "\n",
       "    .dataframe thead th {\n",
       "        text-align: right;\n",
       "    }\n",
       "</style>\n",
       "<table border=\"1\" class=\"dataframe\">\n",
       "  <thead>\n",
       "    <tr style=\"text-align: right;\">\n",
       "      <th></th>\n",
       "      <th>UserID</th>\n",
       "      <th>MovieID</th>\n",
       "      <th>Rating</th>\n",
       "      <th>TimeStamp</th>\n",
       "    </tr>\n",
       "  </thead>\n",
       "  <tbody>\n",
       "    <tr>\n",
       "      <th>0</th>\n",
       "      <td>1</td>\n",
       "      <td>661</td>\n",
       "      <td>3</td>\n",
       "      <td>978302109</td>\n",
       "    </tr>\n",
       "    <tr>\n",
       "      <th>1</th>\n",
       "      <td>1</td>\n",
       "      <td>914</td>\n",
       "      <td>3</td>\n",
       "      <td>978301968</td>\n",
       "    </tr>\n",
       "    <tr>\n",
       "      <th>2</th>\n",
       "      <td>1</td>\n",
       "      <td>3408</td>\n",
       "      <td>4</td>\n",
       "      <td>978300275</td>\n",
       "    </tr>\n",
       "    <tr>\n",
       "      <th>3</th>\n",
       "      <td>1</td>\n",
       "      <td>2355</td>\n",
       "      <td>5</td>\n",
       "      <td>978824291</td>\n",
       "    </tr>\n",
       "    <tr>\n",
       "      <th>4</th>\n",
       "      <td>1</td>\n",
       "      <td>1197</td>\n",
       "      <td>3</td>\n",
       "      <td>978302268</td>\n",
       "    </tr>\n",
       "  </tbody>\n",
       "</table>\n",
       "</div>"
      ],
      "text/plain": [
       "   UserID  MovieID  Rating  TimeStamp\n",
       "0       1      661       3  978302109\n",
       "1       1      914       3  978301968\n",
       "2       1     3408       4  978300275\n",
       "3       1     2355       5  978824291\n",
       "4       1     1197       3  978302268"
      ]
     },
     "execution_count": 5,
     "metadata": {},
     "output_type": "execute_result"
    }
   ],
   "source": [
    "# read the dataset, set column names, drop missing values rows, and display ratings dataset\n",
    "ratings_df= pd.read_csv('../input/movielens/ratings.dat', sep= '::', engine= 'python', encoding='latin-1')\n",
    "ratings_df.columns =['UserID', 'MovieID', 'Rating', 'TimeStamp']\n",
    "ratings_df.dropna(inplace= True)\n",
    "ratings_df.head()"
   ]
  },
  {
   "cell_type": "code",
   "execution_count": 6,
   "id": "68c32291",
   "metadata": {
    "execution": {
     "iopub.execute_input": "2023-09-11T17:57:08.907244Z",
     "iopub.status.busy": "2023-09-11T17:57:08.906852Z",
     "iopub.status.idle": "2023-09-11T17:57:09.042466Z",
     "shell.execute_reply": "2023-09-11T17:57:09.041335Z"
    },
    "papermill": {
     "duration": 0.156862,
     "end_time": "2023-09-11T17:57:09.044899",
     "exception": false,
     "start_time": "2023-09-11T17:57:08.888037",
     "status": "completed"
    },
    "tags": []
   },
   "outputs": [
    {
     "data": {
      "text/html": [
       "<div>\n",
       "<style scoped>\n",
       "    .dataframe tbody tr th:only-of-type {\n",
       "        vertical-align: middle;\n",
       "    }\n",
       "\n",
       "    .dataframe tbody tr th {\n",
       "        vertical-align: top;\n",
       "    }\n",
       "\n",
       "    .dataframe thead th {\n",
       "        text-align: right;\n",
       "    }\n",
       "</style>\n",
       "<table border=\"1\" class=\"dataframe\">\n",
       "  <thead>\n",
       "    <tr style=\"text-align: right;\">\n",
       "      <th></th>\n",
       "      <th>UserID</th>\n",
       "      <th>MovieID</th>\n",
       "      <th>Rating</th>\n",
       "      <th>TimeStamp</th>\n",
       "    </tr>\n",
       "  </thead>\n",
       "  <tbody>\n",
       "    <tr>\n",
       "      <th>count</th>\n",
       "      <td>1.000208e+06</td>\n",
       "      <td>1.000208e+06</td>\n",
       "      <td>1.000208e+06</td>\n",
       "      <td>1.000208e+06</td>\n",
       "    </tr>\n",
       "    <tr>\n",
       "      <th>mean</th>\n",
       "      <td>3.024515e+03</td>\n",
       "      <td>1.865541e+03</td>\n",
       "      <td>3.581563e+00</td>\n",
       "      <td>9.722437e+08</td>\n",
       "    </tr>\n",
       "    <tr>\n",
       "      <th>std</th>\n",
       "      <td>1.728411e+03</td>\n",
       "      <td>1.096041e+03</td>\n",
       "      <td>1.117102e+00</td>\n",
       "      <td>1.215256e+07</td>\n",
       "    </tr>\n",
       "    <tr>\n",
       "      <th>min</th>\n",
       "      <td>1.000000e+00</td>\n",
       "      <td>1.000000e+00</td>\n",
       "      <td>1.000000e+00</td>\n",
       "      <td>9.567039e+08</td>\n",
       "    </tr>\n",
       "    <tr>\n",
       "      <th>25%</th>\n",
       "      <td>1.506000e+03</td>\n",
       "      <td>1.030000e+03</td>\n",
       "      <td>3.000000e+00</td>\n",
       "      <td>9.653026e+08</td>\n",
       "    </tr>\n",
       "    <tr>\n",
       "      <th>50%</th>\n",
       "      <td>3.070000e+03</td>\n",
       "      <td>1.835000e+03</td>\n",
       "      <td>4.000000e+00</td>\n",
       "      <td>9.730180e+08</td>\n",
       "    </tr>\n",
       "    <tr>\n",
       "      <th>75%</th>\n",
       "      <td>4.476000e+03</td>\n",
       "      <td>2.770000e+03</td>\n",
       "      <td>4.000000e+00</td>\n",
       "      <td>9.752209e+08</td>\n",
       "    </tr>\n",
       "    <tr>\n",
       "      <th>max</th>\n",
       "      <td>6.040000e+03</td>\n",
       "      <td>3.952000e+03</td>\n",
       "      <td>5.000000e+00</td>\n",
       "      <td>1.046455e+09</td>\n",
       "    </tr>\n",
       "  </tbody>\n",
       "</table>\n",
       "</div>"
      ],
      "text/plain": [
       "             UserID       MovieID        Rating     TimeStamp\n",
       "count  1.000208e+06  1.000208e+06  1.000208e+06  1.000208e+06\n",
       "mean   3.024515e+03  1.865541e+03  3.581563e+00  9.722437e+08\n",
       "std    1.728411e+03  1.096041e+03  1.117102e+00  1.215256e+07\n",
       "min    1.000000e+00  1.000000e+00  1.000000e+00  9.567039e+08\n",
       "25%    1.506000e+03  1.030000e+03  3.000000e+00  9.653026e+08\n",
       "50%    3.070000e+03  1.835000e+03  4.000000e+00  9.730180e+08\n",
       "75%    4.476000e+03  2.770000e+03  4.000000e+00  9.752209e+08\n",
       "max    6.040000e+03  3.952000e+03  5.000000e+00  1.046455e+09"
      ]
     },
     "execution_count": 6,
     "metadata": {},
     "output_type": "execute_result"
    }
   ],
   "source": [
    "ratings_df.describe()"
   ]
  },
  {
   "cell_type": "code",
   "execution_count": 7,
   "id": "6221ff85",
   "metadata": {
    "execution": {
     "iopub.execute_input": "2023-09-11T17:57:09.082151Z",
     "iopub.status.busy": "2023-09-11T17:57:09.081103Z",
     "iopub.status.idle": "2023-09-11T17:57:09.096102Z",
     "shell.execute_reply": "2023-09-11T17:57:09.094929Z"
    },
    "papermill": {
     "duration": 0.036124,
     "end_time": "2023-09-11T17:57:09.098580",
     "exception": false,
     "start_time": "2023-09-11T17:57:09.062456",
     "status": "completed"
    },
    "tags": []
   },
   "outputs": [
    {
     "name": "stdout",
     "output_type": "stream",
     "text": [
      "<class 'pandas.core.frame.DataFrame'>\n",
      "RangeIndex: 1000208 entries, 0 to 1000207\n",
      "Data columns (total 4 columns):\n",
      " #   Column     Non-Null Count    Dtype\n",
      "---  ------     --------------    -----\n",
      " 0   UserID     1000208 non-null  int64\n",
      " 1   MovieID    1000208 non-null  int64\n",
      " 2   Rating     1000208 non-null  int64\n",
      " 3   TimeStamp  1000208 non-null  int64\n",
      "dtypes: int64(4)\n",
      "memory usage: 30.5 MB\n"
     ]
    }
   ],
   "source": [
    "ratings_df.info()"
   ]
  },
  {
   "cell_type": "markdown",
   "id": "cf3d76c9",
   "metadata": {
    "papermill": {
     "duration": 0.0172,
     "end_time": "2023-09-11T17:57:09.133509",
     "exception": false,
     "start_time": "2023-09-11T17:57:09.116309",
     "status": "completed"
    },
    "tags": []
   },
   "source": [
    "**Users Dataframe**"
   ]
  },
  {
   "cell_type": "code",
   "execution_count": 8,
   "id": "53775d57",
   "metadata": {
    "execution": {
     "iopub.execute_input": "2023-09-11T17:57:09.232720Z",
     "iopub.status.busy": "2023-09-11T17:57:09.231720Z",
     "iopub.status.idle": "2023-09-11T17:57:09.297253Z",
     "shell.execute_reply": "2023-09-11T17:57:09.296065Z"
    },
    "papermill": {
     "duration": 0.148674,
     "end_time": "2023-09-11T17:57:09.299998",
     "exception": false,
     "start_time": "2023-09-11T17:57:09.151324",
     "status": "completed"
    },
    "tags": []
   },
   "outputs": [
    {
     "data": {
      "text/html": [
       "<div>\n",
       "<style scoped>\n",
       "    .dataframe tbody tr th:only-of-type {\n",
       "        vertical-align: middle;\n",
       "    }\n",
       "\n",
       "    .dataframe tbody tr th {\n",
       "        vertical-align: top;\n",
       "    }\n",
       "\n",
       "    .dataframe thead th {\n",
       "        text-align: right;\n",
       "    }\n",
       "</style>\n",
       "<table border=\"1\" class=\"dataframe\">\n",
       "  <thead>\n",
       "    <tr style=\"text-align: right;\">\n",
       "      <th></th>\n",
       "      <th>UserID</th>\n",
       "      <th>Gender</th>\n",
       "      <th>Age</th>\n",
       "      <th>Occupation</th>\n",
       "      <th>Zip-code</th>\n",
       "    </tr>\n",
       "  </thead>\n",
       "  <tbody>\n",
       "    <tr>\n",
       "      <th>0</th>\n",
       "      <td>2</td>\n",
       "      <td>M</td>\n",
       "      <td>56</td>\n",
       "      <td>16</td>\n",
       "      <td>70072</td>\n",
       "    </tr>\n",
       "    <tr>\n",
       "      <th>1</th>\n",
       "      <td>3</td>\n",
       "      <td>M</td>\n",
       "      <td>25</td>\n",
       "      <td>15</td>\n",
       "      <td>55117</td>\n",
       "    </tr>\n",
       "    <tr>\n",
       "      <th>2</th>\n",
       "      <td>4</td>\n",
       "      <td>M</td>\n",
       "      <td>45</td>\n",
       "      <td>7</td>\n",
       "      <td>02460</td>\n",
       "    </tr>\n",
       "    <tr>\n",
       "      <th>3</th>\n",
       "      <td>5</td>\n",
       "      <td>M</td>\n",
       "      <td>25</td>\n",
       "      <td>20</td>\n",
       "      <td>55455</td>\n",
       "    </tr>\n",
       "    <tr>\n",
       "      <th>4</th>\n",
       "      <td>6</td>\n",
       "      <td>F</td>\n",
       "      <td>50</td>\n",
       "      <td>9</td>\n",
       "      <td>55117</td>\n",
       "    </tr>\n",
       "  </tbody>\n",
       "</table>\n",
       "</div>"
      ],
      "text/plain": [
       "   UserID Gender  Age  Occupation Zip-code\n",
       "0       2      M   56          16    70072\n",
       "1       3      M   25          15    55117\n",
       "2       4      M   45           7    02460\n",
       "3       5      M   25          20    55455\n",
       "4       6      F   50           9    55117"
      ]
     },
     "execution_count": 8,
     "metadata": {},
     "output_type": "execute_result"
    }
   ],
   "source": [
    "# read the dataset, set column names, drop missing values rows, and display user dataset\n",
    "user_df= pd.read_csv('../input/movielens/users.dat', sep= '::', engine= 'python', encoding='latin-1')\n",
    "user_df.columns =['UserID', 'Gender', 'Age', 'Occupation', 'Zip-code']\n",
    "user_df.dropna(inplace= True)\n",
    "user_df.head()"
   ]
  },
  {
   "cell_type": "code",
   "execution_count": 9,
   "id": "16a51439",
   "metadata": {
    "execution": {
     "iopub.execute_input": "2023-09-11T17:57:09.338017Z",
     "iopub.status.busy": "2023-09-11T17:57:09.337638Z",
     "iopub.status.idle": "2023-09-11T17:57:09.358209Z",
     "shell.execute_reply": "2023-09-11T17:57:09.357428Z"
    },
    "papermill": {
     "duration": 0.042264,
     "end_time": "2023-09-11T17:57:09.360489",
     "exception": false,
     "start_time": "2023-09-11T17:57:09.318225",
     "status": "completed"
    },
    "tags": []
   },
   "outputs": [
    {
     "data": {
      "text/html": [
       "<div>\n",
       "<style scoped>\n",
       "    .dataframe tbody tr th:only-of-type {\n",
       "        vertical-align: middle;\n",
       "    }\n",
       "\n",
       "    .dataframe tbody tr th {\n",
       "        vertical-align: top;\n",
       "    }\n",
       "\n",
       "    .dataframe thead th {\n",
       "        text-align: right;\n",
       "    }\n",
       "</style>\n",
       "<table border=\"1\" class=\"dataframe\">\n",
       "  <thead>\n",
       "    <tr style=\"text-align: right;\">\n",
       "      <th></th>\n",
       "      <th>UserID</th>\n",
       "      <th>Age</th>\n",
       "      <th>Occupation</th>\n",
       "    </tr>\n",
       "  </thead>\n",
       "  <tbody>\n",
       "    <tr>\n",
       "      <th>count</th>\n",
       "      <td>6039.000000</td>\n",
       "      <td>6039.000000</td>\n",
       "      <td>6039.000000</td>\n",
       "    </tr>\n",
       "    <tr>\n",
       "      <th>mean</th>\n",
       "      <td>3021.000000</td>\n",
       "      <td>30.644146</td>\n",
       "      <td>8.146547</td>\n",
       "    </tr>\n",
       "    <tr>\n",
       "      <th>std</th>\n",
       "      <td>1743.453469</td>\n",
       "      <td>12.891387</td>\n",
       "      <td>6.329991</td>\n",
       "    </tr>\n",
       "    <tr>\n",
       "      <th>min</th>\n",
       "      <td>2.000000</td>\n",
       "      <td>1.000000</td>\n",
       "      <td>0.000000</td>\n",
       "    </tr>\n",
       "    <tr>\n",
       "      <th>25%</th>\n",
       "      <td>1511.500000</td>\n",
       "      <td>25.000000</td>\n",
       "      <td>3.000000</td>\n",
       "    </tr>\n",
       "    <tr>\n",
       "      <th>50%</th>\n",
       "      <td>3021.000000</td>\n",
       "      <td>25.000000</td>\n",
       "      <td>7.000000</td>\n",
       "    </tr>\n",
       "    <tr>\n",
       "      <th>75%</th>\n",
       "      <td>4530.500000</td>\n",
       "      <td>35.000000</td>\n",
       "      <td>14.000000</td>\n",
       "    </tr>\n",
       "    <tr>\n",
       "      <th>max</th>\n",
       "      <td>6040.000000</td>\n",
       "      <td>56.000000</td>\n",
       "      <td>20.000000</td>\n",
       "    </tr>\n",
       "  </tbody>\n",
       "</table>\n",
       "</div>"
      ],
      "text/plain": [
       "            UserID          Age   Occupation\n",
       "count  6039.000000  6039.000000  6039.000000\n",
       "mean   3021.000000    30.644146     8.146547\n",
       "std    1743.453469    12.891387     6.329991\n",
       "min       2.000000     1.000000     0.000000\n",
       "25%    1511.500000    25.000000     3.000000\n",
       "50%    3021.000000    25.000000     7.000000\n",
       "75%    4530.500000    35.000000    14.000000\n",
       "max    6040.000000    56.000000    20.000000"
      ]
     },
     "execution_count": 9,
     "metadata": {},
     "output_type": "execute_result"
    }
   ],
   "source": [
    "user_df.describe()"
   ]
  },
  {
   "cell_type": "code",
   "execution_count": 10,
   "id": "43319c3e",
   "metadata": {
    "execution": {
     "iopub.execute_input": "2023-09-11T17:57:09.398629Z",
     "iopub.status.busy": "2023-09-11T17:57:09.397713Z",
     "iopub.status.idle": "2023-09-11T17:57:09.410537Z",
     "shell.execute_reply": "2023-09-11T17:57:09.409155Z"
    },
    "papermill": {
     "duration": 0.034336,
     "end_time": "2023-09-11T17:57:09.412838",
     "exception": false,
     "start_time": "2023-09-11T17:57:09.378502",
     "status": "completed"
    },
    "tags": []
   },
   "outputs": [
    {
     "name": "stdout",
     "output_type": "stream",
     "text": [
      "<class 'pandas.core.frame.DataFrame'>\n",
      "RangeIndex: 6039 entries, 0 to 6038\n",
      "Data columns (total 5 columns):\n",
      " #   Column      Non-Null Count  Dtype \n",
      "---  ------      --------------  ----- \n",
      " 0   UserID      6039 non-null   int64 \n",
      " 1   Gender      6039 non-null   object\n",
      " 2   Age         6039 non-null   int64 \n",
      " 3   Occupation  6039 non-null   int64 \n",
      " 4   Zip-code    6039 non-null   object\n",
      "dtypes: int64(3), object(2)\n",
      "memory usage: 236.0+ KB\n"
     ]
    }
   ],
   "source": [
    "user_df.info()"
   ]
  },
  {
   "cell_type": "code",
   "execution_count": 11,
   "id": "d0064e64",
   "metadata": {
    "execution": {
     "iopub.execute_input": "2023-09-11T17:57:09.450901Z",
     "iopub.status.busy": "2023-09-11T17:57:09.450491Z",
     "iopub.status.idle": "2023-09-11T17:57:09.618678Z",
     "shell.execute_reply": "2023-09-11T17:57:09.617538Z"
    },
    "papermill": {
     "duration": 0.190346,
     "end_time": "2023-09-11T17:57:09.621427",
     "exception": false,
     "start_time": "2023-09-11T17:57:09.431081",
     "status": "completed"
    },
    "tags": []
   },
   "outputs": [
    {
     "data": {
      "text/html": [
       "<div>\n",
       "<style scoped>\n",
       "    .dataframe tbody tr th:only-of-type {\n",
       "        vertical-align: middle;\n",
       "    }\n",
       "\n",
       "    .dataframe tbody tr th {\n",
       "        vertical-align: top;\n",
       "    }\n",
       "\n",
       "    .dataframe thead th {\n",
       "        text-align: right;\n",
       "    }\n",
       "</style>\n",
       "<table border=\"1\" class=\"dataframe\">\n",
       "  <thead>\n",
       "    <tr style=\"text-align: right;\">\n",
       "      <th></th>\n",
       "      <th>MovieIDs</th>\n",
       "      <th>MovieName</th>\n",
       "      <th>Category</th>\n",
       "      <th>UserID</th>\n",
       "      <th>MovieID</th>\n",
       "      <th>Rating</th>\n",
       "      <th>TimeStamp</th>\n",
       "      <th>UserID</th>\n",
       "      <th>Gender</th>\n",
       "      <th>Age</th>\n",
       "      <th>Occupation</th>\n",
       "      <th>Zip-code</th>\n",
       "    </tr>\n",
       "  </thead>\n",
       "  <tbody>\n",
       "    <tr>\n",
       "      <th>0</th>\n",
       "      <td>2.0</td>\n",
       "      <td>Jumanji (1995)</td>\n",
       "      <td>Adventure|Children's|Fantasy</td>\n",
       "      <td>1</td>\n",
       "      <td>661</td>\n",
       "      <td>3</td>\n",
       "      <td>978302109</td>\n",
       "      <td>2.0</td>\n",
       "      <td>M</td>\n",
       "      <td>56.0</td>\n",
       "      <td>16.0</td>\n",
       "      <td>70072</td>\n",
       "    </tr>\n",
       "    <tr>\n",
       "      <th>1</th>\n",
       "      <td>3.0</td>\n",
       "      <td>Grumpier Old Men (1995)</td>\n",
       "      <td>Comedy|Romance</td>\n",
       "      <td>1</td>\n",
       "      <td>914</td>\n",
       "      <td>3</td>\n",
       "      <td>978301968</td>\n",
       "      <td>3.0</td>\n",
       "      <td>M</td>\n",
       "      <td>25.0</td>\n",
       "      <td>15.0</td>\n",
       "      <td>55117</td>\n",
       "    </tr>\n",
       "    <tr>\n",
       "      <th>2</th>\n",
       "      <td>4.0</td>\n",
       "      <td>Waiting to Exhale (1995)</td>\n",
       "      <td>Comedy|Drama</td>\n",
       "      <td>1</td>\n",
       "      <td>3408</td>\n",
       "      <td>4</td>\n",
       "      <td>978300275</td>\n",
       "      <td>4.0</td>\n",
       "      <td>M</td>\n",
       "      <td>45.0</td>\n",
       "      <td>7.0</td>\n",
       "      <td>02460</td>\n",
       "    </tr>\n",
       "    <tr>\n",
       "      <th>3</th>\n",
       "      <td>5.0</td>\n",
       "      <td>Father of the Bride Part II (1995)</td>\n",
       "      <td>Comedy</td>\n",
       "      <td>1</td>\n",
       "      <td>2355</td>\n",
       "      <td>5</td>\n",
       "      <td>978824291</td>\n",
       "      <td>5.0</td>\n",
       "      <td>M</td>\n",
       "      <td>25.0</td>\n",
       "      <td>20.0</td>\n",
       "      <td>55455</td>\n",
       "    </tr>\n",
       "    <tr>\n",
       "      <th>4</th>\n",
       "      <td>6.0</td>\n",
       "      <td>Heat (1995)</td>\n",
       "      <td>Action|Crime|Thriller</td>\n",
       "      <td>1</td>\n",
       "      <td>1197</td>\n",
       "      <td>3</td>\n",
       "      <td>978302268</td>\n",
       "      <td>6.0</td>\n",
       "      <td>F</td>\n",
       "      <td>50.0</td>\n",
       "      <td>9.0</td>\n",
       "      <td>55117</td>\n",
       "    </tr>\n",
       "    <tr>\n",
       "      <th>5</th>\n",
       "      <td>7.0</td>\n",
       "      <td>Sabrina (1995)</td>\n",
       "      <td>Comedy|Romance</td>\n",
       "      <td>1</td>\n",
       "      <td>1287</td>\n",
       "      <td>5</td>\n",
       "      <td>978302039</td>\n",
       "      <td>7.0</td>\n",
       "      <td>M</td>\n",
       "      <td>35.0</td>\n",
       "      <td>1.0</td>\n",
       "      <td>06810</td>\n",
       "    </tr>\n",
       "    <tr>\n",
       "      <th>6</th>\n",
       "      <td>8.0</td>\n",
       "      <td>Tom and Huck (1995)</td>\n",
       "      <td>Adventure|Children's</td>\n",
       "      <td>1</td>\n",
       "      <td>2804</td>\n",
       "      <td>5</td>\n",
       "      <td>978300719</td>\n",
       "      <td>8.0</td>\n",
       "      <td>M</td>\n",
       "      <td>25.0</td>\n",
       "      <td>12.0</td>\n",
       "      <td>11413</td>\n",
       "    </tr>\n",
       "    <tr>\n",
       "      <th>7</th>\n",
       "      <td>9.0</td>\n",
       "      <td>Sudden Death (1995)</td>\n",
       "      <td>Action</td>\n",
       "      <td>1</td>\n",
       "      <td>594</td>\n",
       "      <td>4</td>\n",
       "      <td>978302268</td>\n",
       "      <td>9.0</td>\n",
       "      <td>M</td>\n",
       "      <td>25.0</td>\n",
       "      <td>17.0</td>\n",
       "      <td>61614</td>\n",
       "    </tr>\n",
       "    <tr>\n",
       "      <th>8</th>\n",
       "      <td>10.0</td>\n",
       "      <td>GoldenEye (1995)</td>\n",
       "      <td>Action|Adventure|Thriller</td>\n",
       "      <td>1</td>\n",
       "      <td>919</td>\n",
       "      <td>4</td>\n",
       "      <td>978301368</td>\n",
       "      <td>10.0</td>\n",
       "      <td>F</td>\n",
       "      <td>35.0</td>\n",
       "      <td>1.0</td>\n",
       "      <td>95370</td>\n",
       "    </tr>\n",
       "    <tr>\n",
       "      <th>9</th>\n",
       "      <td>11.0</td>\n",
       "      <td>American President, The (1995)</td>\n",
       "      <td>Comedy|Drama|Romance</td>\n",
       "      <td>1</td>\n",
       "      <td>595</td>\n",
       "      <td>5</td>\n",
       "      <td>978824268</td>\n",
       "      <td>11.0</td>\n",
       "      <td>F</td>\n",
       "      <td>25.0</td>\n",
       "      <td>1.0</td>\n",
       "      <td>04093</td>\n",
       "    </tr>\n",
       "  </tbody>\n",
       "</table>\n",
       "</div>"
      ],
      "text/plain": [
       "   MovieIDs                           MovieName                      Category  \\\n",
       "0       2.0                      Jumanji (1995)  Adventure|Children's|Fantasy   \n",
       "1       3.0             Grumpier Old Men (1995)                Comedy|Romance   \n",
       "2       4.0            Waiting to Exhale (1995)                  Comedy|Drama   \n",
       "3       5.0  Father of the Bride Part II (1995)                        Comedy   \n",
       "4       6.0                         Heat (1995)         Action|Crime|Thriller   \n",
       "5       7.0                      Sabrina (1995)                Comedy|Romance   \n",
       "6       8.0                 Tom and Huck (1995)          Adventure|Children's   \n",
       "7       9.0                 Sudden Death (1995)                        Action   \n",
       "8      10.0                    GoldenEye (1995)     Action|Adventure|Thriller   \n",
       "9      11.0      American President, The (1995)          Comedy|Drama|Romance   \n",
       "\n",
       "   UserID  MovieID  Rating  TimeStamp  UserID Gender   Age  Occupation  \\\n",
       "0       1      661       3  978302109     2.0      M  56.0        16.0   \n",
       "1       1      914       3  978301968     3.0      M  25.0        15.0   \n",
       "2       1     3408       4  978300275     4.0      M  45.0         7.0   \n",
       "3       1     2355       5  978824291     5.0      M  25.0        20.0   \n",
       "4       1     1197       3  978302268     6.0      F  50.0         9.0   \n",
       "5       1     1287       5  978302039     7.0      M  35.0         1.0   \n",
       "6       1     2804       5  978300719     8.0      M  25.0        12.0   \n",
       "7       1      594       4  978302268     9.0      M  25.0        17.0   \n",
       "8       1      919       4  978301368    10.0      F  35.0         1.0   \n",
       "9       1      595       5  978824268    11.0      F  25.0         1.0   \n",
       "\n",
       "  Zip-code  \n",
       "0    70072  \n",
       "1    55117  \n",
       "2    02460  \n",
       "3    55455  \n",
       "4    55117  \n",
       "5    06810  \n",
       "6    11413  \n",
       "7    61614  \n",
       "8    95370  \n",
       "9    04093  "
      ]
     },
     "execution_count": 11,
     "metadata": {},
     "output_type": "execute_result"
    }
   ],
   "source": [
    "# concatenating dataframes into a unified dataframe \n",
    "movielens_df= pd.concat([movies_df, ratings_df, user_df], axis = 1) \n",
    "movielens_df.head(10)"
   ]
  },
  {
   "cell_type": "markdown",
   "id": "665859bb",
   "metadata": {
    "papermill": {
     "duration": 0.018412,
     "end_time": "2023-09-11T17:57:09.658678",
     "exception": false,
     "start_time": "2023-09-11T17:57:09.640266",
     "status": "completed"
    },
    "tags": []
   },
   "source": [
    "<font size=\"5\">**Exploratory Data Analysis / User DF**</font>"
   ]
  },
  {
   "cell_type": "code",
   "execution_count": 12,
   "id": "cb565ae7",
   "metadata": {
    "execution": {
     "iopub.execute_input": "2023-09-11T17:57:09.698005Z",
     "iopub.status.busy": "2023-09-11T17:57:09.697353Z",
     "iopub.status.idle": "2023-09-11T17:57:10.057333Z",
     "shell.execute_reply": "2023-09-11T17:57:10.056184Z"
    },
    "papermill": {
     "duration": 0.382576,
     "end_time": "2023-09-11T17:57:10.059893",
     "exception": false,
     "start_time": "2023-09-11T17:57:09.677317",
     "status": "completed"
    },
    "tags": []
   },
   "outputs": [
    {
     "data": {
      "image/png": "[encoded data removed]",
      "text/plain": [
       "<Figure size 1000x800 with 1 Axes>"
      ]
     },
     "metadata": {},
     "output_type": "display_data"
    }
   ],
   "source": [
    "# age distribution of users \n",
    "movielens_df['Age'].value_counts().plot(kind= 'barh', alpha= 0.7, figsize= (10, 8))\n",
    "plt.title(\"User Age Distribution\")\n",
    "plt.show()"
   ]
  },
  {
   "cell_type": "code",
   "execution_count": 13,
   "id": "a2a71d9c",
   "metadata": {
    "execution": {
     "iopub.execute_input": "2023-09-11T17:57:10.100259Z",
     "iopub.status.busy": "2023-09-11T17:57:10.099841Z",
     "iopub.status.idle": "2023-09-11T17:57:10.524110Z",
     "shell.execute_reply": "2023-09-11T17:57:10.522822Z"
    },
    "papermill": {
     "duration": 0.447712,
     "end_time": "2023-09-11T17:57:10.526810",
     "exception": false,
     "start_time": "2023-09-11T17:57:10.079098",
     "status": "completed"
    },
    "tags": []
   },
   "outputs": [
    {
     "data": {
      "text/plain": [
       "Text(0, 0.5, 'User Count')"
      ]
     },
     "execution_count": 13,
     "metadata": {},
     "output_type": "execute_result"
    },
    {
     "data": {
      "image/png": "[encoded data removed]",
      "text/plain": [
       "<Figure size 640x480 with 1 Axes>"
      ]
     },
     "metadata": {},
     "output_type": "display_data"
    }
   ],
   "source": [
    "# plotting histogram to visualize the distribution\n",
    "movielens_df.Age.plot.hist(bins= 25)\n",
    "plt.title(\"User Distribution\")\n",
    "plt.xlabel(\"Age\")\n",
    "plt.ylabel(\"User Count\")"
   ]
  },
  {
   "cell_type": "code",
   "execution_count": 14,
   "id": "378cf3a5",
   "metadata": {
    "execution": {
     "iopub.execute_input": "2023-09-11T17:57:10.570551Z",
     "iopub.status.busy": "2023-09-11T17:57:10.570155Z",
     "iopub.status.idle": "2023-09-11T17:57:10.653870Z",
     "shell.execute_reply": "2023-09-11T17:57:10.652607Z"
    },
    "papermill": {
     "duration": 0.108291,
     "end_time": "2023-09-11T17:57:10.656623",
     "exception": false,
     "start_time": "2023-09-11T17:57:10.548332",
     "status": "completed"
    },
    "tags": []
   },
   "outputs": [
    {
     "data": {
      "text/html": [
       "<div>\n",
       "<style scoped>\n",
       "    .dataframe tbody tr th:only-of-type {\n",
       "        vertical-align: middle;\n",
       "    }\n",
       "\n",
       "    .dataframe tbody tr th {\n",
       "        vertical-align: top;\n",
       "    }\n",
       "\n",
       "    .dataframe thead th {\n",
       "        text-align: right;\n",
       "    }\n",
       "</style>\n",
       "<table border=\"1\" class=\"dataframe\">\n",
       "  <thead>\n",
       "    <tr style=\"text-align: right;\">\n",
       "      <th></th>\n",
       "      <th>Age</th>\n",
       "      <th>Age Classes</th>\n",
       "    </tr>\n",
       "  </thead>\n",
       "  <tbody>\n",
       "    <tr>\n",
       "      <th>0</th>\n",
       "      <td>56.0</td>\n",
       "      <td>50-59</td>\n",
       "    </tr>\n",
       "    <tr>\n",
       "      <th>1</th>\n",
       "      <td>25.0</td>\n",
       "      <td>20-29</td>\n",
       "    </tr>\n",
       "    <tr>\n",
       "      <th>2</th>\n",
       "      <td>45.0</td>\n",
       "      <td>40-49</td>\n",
       "    </tr>\n",
       "    <tr>\n",
       "      <th>4</th>\n",
       "      <td>50.0</td>\n",
       "      <td>50-59</td>\n",
       "    </tr>\n",
       "    <tr>\n",
       "      <th>5</th>\n",
       "      <td>35.0</td>\n",
       "      <td>30-39</td>\n",
       "    </tr>\n",
       "    <tr>\n",
       "      <th>16</th>\n",
       "      <td>18.0</td>\n",
       "      <td>10-19</td>\n",
       "    </tr>\n",
       "    <tr>\n",
       "      <th>17</th>\n",
       "      <td>1.0</td>\n",
       "      <td>0-9</td>\n",
       "    </tr>\n",
       "    <tr>\n",
       "      <th>6039</th>\n",
       "      <td>NaN</td>\n",
       "      <td>NaN</td>\n",
       "    </tr>\n",
       "  </tbody>\n",
       "</table>\n",
       "</div>"
      ],
      "text/plain": [
       "       Age Age Classes\n",
       "0     56.0       50-59\n",
       "1     25.0       20-29\n",
       "2     45.0       40-49\n",
       "4     50.0       50-59\n",
       "5     35.0       30-39\n",
       "16    18.0       10-19\n",
       "17     1.0         0-9\n",
       "6039   NaN         NaN"
      ]
     },
     "execution_count": 14,
     "metadata": {},
     "output_type": "execute_result"
    }
   ],
   "source": [
    "# categorize ages into respective intervals or classes\n",
    "age_class= ['0-9', '10-19', '20-29', '30-39', '40-49', '50-59', '60-69', '70-79']\n",
    "movielens_df['Age Classes']= pd.cut(movielens_df.Age, range(0, 81, 10), right= False, labels= age_class)\n",
    "movielens_df[['Age', 'Age Classes']].drop_duplicates()[:10]"
   ]
  },
  {
   "cell_type": "code",
   "execution_count": 15,
   "id": "351994ca",
   "metadata": {
    "execution": {
     "iopub.execute_input": "2023-09-11T17:57:10.699360Z",
     "iopub.status.busy": "2023-09-11T17:57:10.698124Z",
     "iopub.status.idle": "2023-09-11T17:57:10.744399Z",
     "shell.execute_reply": "2023-09-11T17:57:10.743038Z"
    },
    "papermill": {
     "duration": 0.070809,
     "end_time": "2023-09-11T17:57:10.747516",
     "exception": false,
     "start_time": "2023-09-11T17:57:10.676707",
     "status": "completed"
    },
    "tags": []
   },
   "outputs": [
    {
     "data": {
      "text/plain": [
       "Gender\n",
       "M    4331\n",
       "F    1708\n",
       "Name: count, dtype: int64"
      ]
     },
     "execution_count": 15,
     "metadata": {},
     "output_type": "execute_result"
    }
   ],
   "source": [
    "# male/female count\n",
    "user_count= movielens_df['Gender'].value_counts()\n",
    "user_count"
   ]
  },
  {
   "cell_type": "code",
   "execution_count": 16,
   "id": "8d2c0c62",
   "metadata": {
    "execution": {
     "iopub.execute_input": "2023-09-11T17:57:10.791498Z",
     "iopub.status.busy": "2023-09-11T17:57:10.790699Z",
     "iopub.status.idle": "2023-09-11T17:57:11.075662Z",
     "shell.execute_reply": "2023-09-11T17:57:11.074523Z"
    },
    "papermill": {
     "duration": 0.310354,
     "end_time": "2023-09-11T17:57:11.078205",
     "exception": false,
     "start_time": "2023-09-11T17:57:10.767851",
     "status": "completed"
    },
    "tags": []
   },
   "outputs": [
    {
     "data": {
      "image/png": "[encoded data removed]",
      "text/plain": [
       "<Figure size 1000x800 with 1 Axes>"
      ]
     },
     "metadata": {},
     "output_type": "display_data"
    }
   ],
   "source": [
    "# visualization of gender distribution\n",
    "movielens_df['Gender'].value_counts().plot(kind= 'barh', alpha= 0.7, figsize= (10, 8))\n",
    "plt.title(\"Gender Distribution\")\n",
    "plt.xlabel(\"User Count\")\n",
    "plt.ylabel(\"Male/Female\")\n",
    "plt.show()"
   ]
  },
  {
   "cell_type": "markdown",
   "id": "8fe459b3",
   "metadata": {
    "papermill": {
     "duration": 0.020368,
     "end_time": "2023-09-11T17:57:11.118970",
     "exception": false,
     "start_time": "2023-09-11T17:57:11.098602",
     "status": "completed"
    },
    "tags": []
   },
   "source": [
    "<font size=\"5\">**Exploratory Data Analysis / Ratings DF**</font>"
   ]
  },
  {
   "cell_type": "code",
   "execution_count": 17,
   "id": "fe8b5632",
   "metadata": {
    "execution": {
     "iopub.execute_input": "2023-09-11T17:57:11.161702Z",
     "iopub.status.busy": "2023-09-11T17:57:11.161339Z",
     "iopub.status.idle": "2023-09-11T17:57:11.479540Z",
     "shell.execute_reply": "2023-09-11T17:57:11.478463Z"
    },
    "papermill": {
     "duration": 0.342754,
     "end_time": "2023-09-11T17:57:11.482287",
     "exception": false,
     "start_time": "2023-09-11T17:57:11.139533",
     "status": "completed"
    },
    "tags": []
   },
   "outputs": [
    {
     "data": {
      "image/png": "[encoded data removed]",
      "text/plain": [
       "<Figure size 1000x800 with 1 Axes>"
      ]
     },
     "metadata": {},
     "output_type": "display_data"
    }
   ],
   "source": [
    "# visualization of user ratings\n",
    "movielens_df['Rating'].value_counts().plot(kind= 'bar', alpha= 0.7, figsize= (10, 8))\n",
    "plt.xlabel(\"Ratings\")\n",
    "plt.ylabel(\"Movie Count\")\n",
    "plt.title(\"Movie Ratings\")\n",
    "plt.show()"
   ]
  },
  {
   "cell_type": "markdown",
   "id": "7cd76dde",
   "metadata": {
    "papermill": {
     "duration": 0.020714,
     "end_time": "2023-09-11T17:57:11.524415",
     "exception": false,
     "start_time": "2023-09-11T17:57:11.503701",
     "status": "completed"
    },
    "tags": []
   },
   "source": [
    "<font size=\"5\">**Exploratory Data Analysis / Movies DF**</font>"
   ]
  },
  {
   "cell_type": "code",
   "execution_count": 18,
   "id": "549109a2",
   "metadata": {
    "execution": {
     "iopub.execute_input": "2023-09-11T17:57:11.570206Z",
     "iopub.status.busy": "2023-09-11T17:57:11.569805Z",
     "iopub.status.idle": "2023-09-11T17:57:11.588906Z",
     "shell.execute_reply": "2023-09-11T17:57:11.587378Z"
    },
    "papermill": {
     "duration": 0.044694,
     "end_time": "2023-09-11T17:57:11.591258",
     "exception": false,
     "start_time": "2023-09-11T17:57:11.546564",
     "status": "completed"
    },
    "tags": []
   },
   "outputs": [
    {
     "data": {
      "text/plain": [
       "1000208"
      ]
     },
     "execution_count": 18,
     "metadata": {},
     "output_type": "execute_result"
    }
   ],
   "source": [
    "# calculating total number of movies\n",
    "movie_count= movielens_df['Rating'].value_counts().sum()\n",
    "movie_count"
   ]
  },
  {
   "cell_type": "code",
   "execution_count": 19,
   "id": "3689dfbf",
   "metadata": {
    "execution": {
     "iopub.execute_input": "2023-09-11T17:57:11.636914Z",
     "iopub.status.busy": "2023-09-11T17:57:11.636172Z",
     "iopub.status.idle": "2023-09-11T17:57:11.780552Z",
     "shell.execute_reply": "2023-09-11T17:57:11.779138Z"
    },
    "papermill": {
     "duration": 0.170664,
     "end_time": "2023-09-11T17:57:11.783162",
     "exception": false,
     "start_time": "2023-09-11T17:57:11.612498",
     "status": "completed"
    },
    "tags": []
   },
   "outputs": [
    {
     "data": {
      "text/plain": [
       "MovieName\n",
       "$1,000,000 Duck (1971)                   1\n",
       "Only Angels Have Wings (1939)            1\n",
       "Only You (1994)                          1\n",
       "Open Season (1996)                       1\n",
       "Open Your Eyes (Abre los ojos) (1997)    1\n",
       "                                        ..\n",
       "Toy Story 2 (1999)                       1\n",
       "Toys (1992)                              1\n",
       "Total Eclipse (1995)                     1\n",
       "Trading Places (1983)                    1\n",
       "Tom & Viv (1994)                         1\n",
       "Length: 1000, dtype: int64"
      ]
     },
     "execution_count": 19,
     "metadata": {},
     "output_type": "execute_result"
    }
   ],
   "source": [
    "# sorting movies in ascencding order\n",
    "ascending_movies= movielens_df.groupby('MovieName').size().sort_values(ascending= True)[:1000]\n",
    "ascending_movies"
   ]
  },
  {
   "cell_type": "code",
   "execution_count": 20,
   "id": "cb7550a1",
   "metadata": {
    "execution": {
     "iopub.execute_input": "2023-09-11T17:57:11.828099Z",
     "iopub.status.busy": "2023-09-11T17:57:11.827705Z",
     "iopub.status.idle": "2023-09-11T17:57:11.986898Z",
     "shell.execute_reply": "2023-09-11T17:57:11.985625Z"
    },
    "papermill": {
     "duration": 0.184779,
     "end_time": "2023-09-11T17:57:11.989566",
     "exception": false,
     "start_time": "2023-09-11T17:57:11.804787",
     "status": "completed"
    },
    "tags": []
   },
   "outputs": [
    {
     "data": {
      "text/plain": [
       "(1, 13)"
      ]
     },
     "execution_count": 20,
     "metadata": {},
     "output_type": "execute_result"
    }
   ],
   "source": [
    "# extracting 'Toy Story 2' and its shape\n",
    "group_movieName= movielens_df.groupby('MovieName')\n",
    "selected_movie= group_movieName.get_group('Toy Story 2 (1999)')\n",
    "selected_movie.shape"
   ]
  },
  {
   "cell_type": "code",
   "execution_count": 21,
   "id": "6ca8ceab",
   "metadata": {
    "execution": {
     "iopub.execute_input": "2023-09-11T17:57:12.036624Z",
     "iopub.status.busy": "2023-09-11T17:57:12.035513Z",
     "iopub.status.idle": "2023-09-11T17:57:12.318613Z",
     "shell.execute_reply": "2023-09-11T17:57:12.317767Z"
    },
    "papermill": {
     "duration": 0.308957,
     "end_time": "2023-09-11T17:57:12.321031",
     "exception": false,
     "start_time": "2023-09-11T17:57:12.012074",
     "status": "completed"
    },
    "tags": []
   },
   "outputs": [
    {
     "data": {
      "image/png": "[encoded data removed]",
      "text/plain": [
       "<Figure size 1000x800 with 1 Axes>"
      ]
     },
     "metadata": {},
     "output_type": "display_data"
    }
   ],
   "source": [
    "# visualization of the movie and its user ratings \n",
    "plt.figure(figsize= (10, 8))\n",
    "plt.scatter(selected_movie['MovieName'], selected_movie['Rating'])\n",
    "plt.title('Scattered Plot Showing User Rating for \"Toy Story 2 (1999)\"')\n",
    "plt.show()"
   ]
  },
  {
   "cell_type": "code",
   "execution_count": 22,
   "id": "d8196990",
   "metadata": {
    "execution": {
     "iopub.execute_input": "2023-09-11T17:57:12.368012Z",
     "iopub.status.busy": "2023-09-11T17:57:12.367319Z",
     "iopub.status.idle": "2023-09-11T17:57:12.378623Z",
     "shell.execute_reply": "2023-09-11T17:57:12.377506Z"
    },
    "papermill": {
     "duration": 0.037729,
     "end_time": "2023-09-11T17:57:12.381264",
     "exception": false,
     "start_time": "2023-09-11T17:57:12.343535",
     "status": "completed"
    },
    "tags": []
   },
   "outputs": [
    {
     "data": {
      "text/html": [
       "<div>\n",
       "<style scoped>\n",
       "    .dataframe tbody tr th:only-of-type {\n",
       "        vertical-align: middle;\n",
       "    }\n",
       "\n",
       "    .dataframe tbody tr th {\n",
       "        vertical-align: top;\n",
       "    }\n",
       "\n",
       "    .dataframe thead th {\n",
       "        text-align: right;\n",
       "    }\n",
       "</style>\n",
       "<table border=\"1\" class=\"dataframe\">\n",
       "  <thead>\n",
       "    <tr style=\"text-align: right;\">\n",
       "      <th></th>\n",
       "      <th>MovieName</th>\n",
       "      <th>Age Classes</th>\n",
       "    </tr>\n",
       "  </thead>\n",
       "  <tbody>\n",
       "    <tr>\n",
       "      <th>3044</th>\n",
       "      <td>Toy Story 2 (1999)</td>\n",
       "      <td>0-9</td>\n",
       "    </tr>\n",
       "  </tbody>\n",
       "</table>\n",
       "</div>"
      ],
      "text/plain": [
       "               MovieName Age Classes\n",
       "3044  Toy Story 2 (1999)         0-9"
      ]
     },
     "execution_count": 22,
     "metadata": {},
     "output_type": "execute_result"
    }
   ],
   "source": [
    "# visualization of viewership of the movie 'Toy Story 2 (1999)' by age group\n",
    "selected_movie[['MovieName', 'Age Classes']]"
   ]
  },
  {
   "cell_type": "code",
   "execution_count": 23,
   "id": "4a4b0b24",
   "metadata": {
    "execution": {
     "iopub.execute_input": "2023-09-11T17:57:12.428129Z",
     "iopub.status.busy": "2023-09-11T17:57:12.427098Z",
     "iopub.status.idle": "2023-09-11T17:57:12.748981Z",
     "shell.execute_reply": "2023-09-11T17:57:12.747776Z"
    },
    "papermill": {
     "duration": 0.348261,
     "end_time": "2023-09-11T17:57:12.751757",
     "exception": false,
     "start_time": "2023-09-11T17:57:12.403496",
     "status": "completed"
    },
    "tags": []
   },
   "outputs": [
    {
     "data": {
      "image/png": "[encoded data removed]",
      "text/plain": [
       "<Figure size 1000x800 with 1 Axes>"
      ]
     },
     "metadata": {},
     "output_type": "display_data"
    }
   ],
   "source": [
    "# visualization of the top 20 movies by viewership ratings\n",
    "top_20= movielens_df[20:]\n",
    "top_20['Rating'].value_counts().plot(kind= 'barh', alpha= 0.7, figsize=(10, 8))\n",
    "plt.title('Top 20 Movies According to Viewership Ratings')\n",
    "plt.show()"
   ]
  },
  {
   "cell_type": "markdown",
   "id": "8fdcf545",
   "metadata": {
    "papermill": {
     "duration": 0.023367,
     "end_time": "2023-09-11T17:57:12.797937",
     "exception": false,
     "start_time": "2023-09-11T17:57:12.774570",
     "status": "completed"
    },
    "tags": []
   },
   "source": [
    "<font size=\"5\">**Maching Learning Models**</font>"
   ]
  },
  {
   "cell_type": "code",
   "execution_count": 24,
   "id": "1f5fe80e",
   "metadata": {
    "execution": {
     "iopub.execute_input": "2023-09-11T17:57:12.845542Z",
     "iopub.status.busy": "2023-09-11T17:57:12.844840Z",
     "iopub.status.idle": "2023-09-11T17:57:12.879377Z",
     "shell.execute_reply": "2023-09-11T17:57:12.878244Z"
    },
    "papermill": {
     "duration": 0.061115,
     "end_time": "2023-09-11T17:57:12.881721",
     "exception": false,
     "start_time": "2023-09-11T17:57:12.820606",
     "status": "completed"
    },
    "tags": []
   },
   "outputs": [
    {
     "data": {
      "text/html": [
       "<div>\n",
       "<style scoped>\n",
       "    .dataframe tbody tr th:only-of-type {\n",
       "        vertical-align: middle;\n",
       "    }\n",
       "\n",
       "    .dataframe tbody tr th {\n",
       "        vertical-align: top;\n",
       "    }\n",
       "\n",
       "    .dataframe thead th {\n",
       "        text-align: right;\n",
       "    }\n",
       "</style>\n",
       "<table border=\"1\" class=\"dataframe\">\n",
       "  <thead>\n",
       "    <tr style=\"text-align: right;\">\n",
       "      <th></th>\n",
       "      <th>MovieIDs</th>\n",
       "      <th>MovieName</th>\n",
       "      <th>Category</th>\n",
       "      <th>UserID</th>\n",
       "      <th>MovieID</th>\n",
       "      <th>Rating</th>\n",
       "      <th>TimeStamp</th>\n",
       "      <th>UserID</th>\n",
       "      <th>Gender</th>\n",
       "      <th>Age</th>\n",
       "      <th>Occupation</th>\n",
       "      <th>Zip-code</th>\n",
       "      <th>Age Classes</th>\n",
       "    </tr>\n",
       "  </thead>\n",
       "  <tbody>\n",
       "    <tr>\n",
       "      <th>0</th>\n",
       "      <td>2.0</td>\n",
       "      <td>Jumanji (1995)</td>\n",
       "      <td>Adventure|Children's|Fantasy</td>\n",
       "      <td>1</td>\n",
       "      <td>661</td>\n",
       "      <td>3</td>\n",
       "      <td>978302109</td>\n",
       "      <td>2.0</td>\n",
       "      <td>M</td>\n",
       "      <td>56.0</td>\n",
       "      <td>16.0</td>\n",
       "      <td>70072</td>\n",
       "      <td>50-59</td>\n",
       "    </tr>\n",
       "    <tr>\n",
       "      <th>1</th>\n",
       "      <td>3.0</td>\n",
       "      <td>Grumpier Old Men (1995)</td>\n",
       "      <td>Comedy|Romance</td>\n",
       "      <td>1</td>\n",
       "      <td>914</td>\n",
       "      <td>3</td>\n",
       "      <td>978301968</td>\n",
       "      <td>3.0</td>\n",
       "      <td>M</td>\n",
       "      <td>25.0</td>\n",
       "      <td>15.0</td>\n",
       "      <td>55117</td>\n",
       "      <td>20-29</td>\n",
       "    </tr>\n",
       "    <tr>\n",
       "      <th>2</th>\n",
       "      <td>4.0</td>\n",
       "      <td>Waiting to Exhale (1995)</td>\n",
       "      <td>Comedy|Drama</td>\n",
       "      <td>1</td>\n",
       "      <td>3408</td>\n",
       "      <td>4</td>\n",
       "      <td>978300275</td>\n",
       "      <td>4.0</td>\n",
       "      <td>M</td>\n",
       "      <td>45.0</td>\n",
       "      <td>7.0</td>\n",
       "      <td>02460</td>\n",
       "      <td>40-49</td>\n",
       "    </tr>\n",
       "    <tr>\n",
       "      <th>3</th>\n",
       "      <td>5.0</td>\n",
       "      <td>Father of the Bride Part II (1995)</td>\n",
       "      <td>Comedy</td>\n",
       "      <td>1</td>\n",
       "      <td>2355</td>\n",
       "      <td>5</td>\n",
       "      <td>978824291</td>\n",
       "      <td>5.0</td>\n",
       "      <td>M</td>\n",
       "      <td>25.0</td>\n",
       "      <td>20.0</td>\n",
       "      <td>55455</td>\n",
       "      <td>20-29</td>\n",
       "    </tr>\n",
       "    <tr>\n",
       "      <th>4</th>\n",
       "      <td>6.0</td>\n",
       "      <td>Heat (1995)</td>\n",
       "      <td>Action|Crime|Thriller</td>\n",
       "      <td>1</td>\n",
       "      <td>1197</td>\n",
       "      <td>3</td>\n",
       "      <td>978302268</td>\n",
       "      <td>6.0</td>\n",
       "      <td>F</td>\n",
       "      <td>50.0</td>\n",
       "      <td>9.0</td>\n",
       "      <td>55117</td>\n",
       "      <td>50-59</td>\n",
       "    </tr>\n",
       "    <tr>\n",
       "      <th>...</th>\n",
       "      <td>...</td>\n",
       "      <td>...</td>\n",
       "      <td>...</td>\n",
       "      <td>...</td>\n",
       "      <td>...</td>\n",
       "      <td>...</td>\n",
       "      <td>...</td>\n",
       "      <td>...</td>\n",
       "      <td>...</td>\n",
       "      <td>...</td>\n",
       "      <td>...</td>\n",
       "      <td>...</td>\n",
       "      <td>...</td>\n",
       "    </tr>\n",
       "    <tr>\n",
       "      <th>995</th>\n",
       "      <td>1009.0</td>\n",
       "      <td>Escape to Witch Mountain (1975)</td>\n",
       "      <td>Adventure|Children's|Fantasy</td>\n",
       "      <td>10</td>\n",
       "      <td>1020</td>\n",
       "      <td>3</td>\n",
       "      <td>978228726</td>\n",
       "      <td>997.0</td>\n",
       "      <td>M</td>\n",
       "      <td>1.0</td>\n",
       "      <td>19.0</td>\n",
       "      <td>15748</td>\n",
       "      <td>0-9</td>\n",
       "    </tr>\n",
       "    <tr>\n",
       "      <th>996</th>\n",
       "      <td>1010.0</td>\n",
       "      <td>Love Bug, The (1969)</td>\n",
       "      <td>Children's|Comedy</td>\n",
       "      <td>10</td>\n",
       "      <td>784</td>\n",
       "      <td>3</td>\n",
       "      <td>978230946</td>\n",
       "      <td>998.0</td>\n",
       "      <td>M</td>\n",
       "      <td>45.0</td>\n",
       "      <td>20.0</td>\n",
       "      <td>10019</td>\n",
       "      <td>40-49</td>\n",
       "    </tr>\n",
       "    <tr>\n",
       "      <th>997</th>\n",
       "      <td>1011.0</td>\n",
       "      <td>Herbie Rides Again (1974)</td>\n",
       "      <td>Adventure|Children's|Comedy</td>\n",
       "      <td>10</td>\n",
       "      <td>858</td>\n",
       "      <td>3</td>\n",
       "      <td>978224375</td>\n",
       "      <td>999.0</td>\n",
       "      <td>M</td>\n",
       "      <td>25.0</td>\n",
       "      <td>15.0</td>\n",
       "      <td>62558</td>\n",
       "      <td>20-29</td>\n",
       "    </tr>\n",
       "    <tr>\n",
       "      <th>998</th>\n",
       "      <td>1012.0</td>\n",
       "      <td>Old Yeller (1957)</td>\n",
       "      <td>Children's|Drama</td>\n",
       "      <td>10</td>\n",
       "      <td>1022</td>\n",
       "      <td>5</td>\n",
       "      <td>979775689</td>\n",
       "      <td>1000.0</td>\n",
       "      <td>F</td>\n",
       "      <td>25.0</td>\n",
       "      <td>6.0</td>\n",
       "      <td>90027</td>\n",
       "      <td>20-29</td>\n",
       "    </tr>\n",
       "    <tr>\n",
       "      <th>999</th>\n",
       "      <td>1013.0</td>\n",
       "      <td>Parent Trap, The (1961)</td>\n",
       "      <td>Children's|Drama</td>\n",
       "      <td>10</td>\n",
       "      <td>2762</td>\n",
       "      <td>5</td>\n",
       "      <td>978225541</td>\n",
       "      <td>1001.0</td>\n",
       "      <td>M</td>\n",
       "      <td>25.0</td>\n",
       "      <td>4.0</td>\n",
       "      <td>90210</td>\n",
       "      <td>20-29</td>\n",
       "    </tr>\n",
       "  </tbody>\n",
       "</table>\n",
       "<p>1000 rows × 13 columns</p>\n",
       "</div>"
      ],
      "text/plain": [
       "     MovieIDs                           MovieName  \\\n",
       "0         2.0                      Jumanji (1995)   \n",
       "1         3.0             Grumpier Old Men (1995)   \n",
       "2         4.0            Waiting to Exhale (1995)   \n",
       "3         5.0  Father of the Bride Part II (1995)   \n",
       "4         6.0                         Heat (1995)   \n",
       "..        ...                                 ...   \n",
       "995    1009.0     Escape to Witch Mountain (1975)   \n",
       "996    1010.0                Love Bug, The (1969)   \n",
       "997    1011.0           Herbie Rides Again (1974)   \n",
       "998    1012.0                   Old Yeller (1957)   \n",
       "999    1013.0             Parent Trap, The (1961)   \n",
       "\n",
       "                         Category  UserID  MovieID  Rating  TimeStamp  UserID  \\\n",
       "0    Adventure|Children's|Fantasy       1      661       3  978302109     2.0   \n",
       "1                  Comedy|Romance       1      914       3  978301968     3.0   \n",
       "2                    Comedy|Drama       1     3408       4  978300275     4.0   \n",
       "3                          Comedy       1     2355       5  978824291     5.0   \n",
       "4           Action|Crime|Thriller       1     1197       3  978302268     6.0   \n",
       "..                            ...     ...      ...     ...        ...     ...   \n",
       "995  Adventure|Children's|Fantasy      10     1020       3  978228726   997.0   \n",
       "996             Children's|Comedy      10      784       3  978230946   998.0   \n",
       "997   Adventure|Children's|Comedy      10      858       3  978224375   999.0   \n",
       "998              Children's|Drama      10     1022       5  979775689  1000.0   \n",
       "999              Children's|Drama      10     2762       5  978225541  1001.0   \n",
       "\n",
       "    Gender   Age  Occupation Zip-code Age Classes  \n",
       "0        M  56.0        16.0    70072       50-59  \n",
       "1        M  25.0        15.0    55117       20-29  \n",
       "2        M  45.0         7.0    02460       40-49  \n",
       "3        M  25.0        20.0    55455       20-29  \n",
       "4        F  50.0         9.0    55117       50-59  \n",
       "..     ...   ...         ...      ...         ...  \n",
       "995      M   1.0        19.0    15748         0-9  \n",
       "996      M  45.0        20.0    10019       40-49  \n",
       "997      M  25.0        15.0    62558       20-29  \n",
       "998      F  25.0         6.0    90027       20-29  \n",
       "999      M  25.0         4.0    90210       20-29  \n",
       "\n",
       "[1000 rows x 13 columns]"
      ]
     },
     "execution_count": 24,
     "metadata": {},
     "output_type": "execute_result"
    }
   ],
   "source": [
    "# extracted records are the first 1000 records of the dataset\n",
    "extracted_record= movielens_df.iloc[:1000]\n",
    "extracted_record.dropna()"
   ]
  },
  {
   "cell_type": "code",
   "execution_count": 25,
   "id": "86f5e3e3",
   "metadata": {
    "execution": {
     "iopub.execute_input": "2023-09-11T17:57:12.930170Z",
     "iopub.status.busy": "2023-09-11T17:57:12.929521Z",
     "iopub.status.idle": "2023-09-11T17:57:12.953521Z",
     "shell.execute_reply": "2023-09-11T17:57:12.952356Z"
    },
    "papermill": {
     "duration": 0.051473,
     "end_time": "2023-09-11T17:57:12.956266",
     "exception": false,
     "start_time": "2023-09-11T17:57:12.904793",
     "status": "completed"
    },
    "tags": []
   },
   "outputs": [
    {
     "data": {
      "text/html": [
       "<div>\n",
       "<style scoped>\n",
       "    .dataframe tbody tr th:only-of-type {\n",
       "        vertical-align: middle;\n",
       "    }\n",
       "\n",
       "    .dataframe tbody tr th {\n",
       "        vertical-align: top;\n",
       "    }\n",
       "\n",
       "    .dataframe thead th {\n",
       "        text-align: right;\n",
       "    }\n",
       "</style>\n",
       "<table border=\"1\" class=\"dataframe\">\n",
       "  <thead>\n",
       "    <tr style=\"text-align: right;\">\n",
       "      <th></th>\n",
       "      <th>MovieIDs</th>\n",
       "      <th>MovieName</th>\n",
       "      <th>Category</th>\n",
       "      <th>UserID</th>\n",
       "      <th>MovieID</th>\n",
       "      <th>Rating</th>\n",
       "      <th>TimeStamp</th>\n",
       "      <th>UserID</th>\n",
       "      <th>Gender</th>\n",
       "      <th>Age</th>\n",
       "      <th>Occupation</th>\n",
       "      <th>Zip-code</th>\n",
       "      <th>Age Classes</th>\n",
       "    </tr>\n",
       "  </thead>\n",
       "  <tbody>\n",
       "    <tr>\n",
       "      <th>0</th>\n",
       "      <td>2.0</td>\n",
       "      <td>Jumanji (1995)</td>\n",
       "      <td>Adventure|Children's|Fantasy</td>\n",
       "      <td>1</td>\n",
       "      <td>661</td>\n",
       "      <td>3</td>\n",
       "      <td>978302109</td>\n",
       "      <td>2.0</td>\n",
       "      <td>1</td>\n",
       "      <td>56.0</td>\n",
       "      <td>16.0</td>\n",
       "      <td>70072</td>\n",
       "      <td>50-59</td>\n",
       "    </tr>\n",
       "    <tr>\n",
       "      <th>1</th>\n",
       "      <td>3.0</td>\n",
       "      <td>Grumpier Old Men (1995)</td>\n",
       "      <td>Comedy|Romance</td>\n",
       "      <td>1</td>\n",
       "      <td>914</td>\n",
       "      <td>3</td>\n",
       "      <td>978301968</td>\n",
       "      <td>3.0</td>\n",
       "      <td>1</td>\n",
       "      <td>25.0</td>\n",
       "      <td>15.0</td>\n",
       "      <td>55117</td>\n",
       "      <td>20-29</td>\n",
       "    </tr>\n",
       "    <tr>\n",
       "      <th>2</th>\n",
       "      <td>4.0</td>\n",
       "      <td>Waiting to Exhale (1995)</td>\n",
       "      <td>Comedy|Drama</td>\n",
       "      <td>1</td>\n",
       "      <td>3408</td>\n",
       "      <td>4</td>\n",
       "      <td>978300275</td>\n",
       "      <td>4.0</td>\n",
       "      <td>1</td>\n",
       "      <td>45.0</td>\n",
       "      <td>7.0</td>\n",
       "      <td>02460</td>\n",
       "      <td>40-49</td>\n",
       "    </tr>\n",
       "    <tr>\n",
       "      <th>3</th>\n",
       "      <td>5.0</td>\n",
       "      <td>Father of the Bride Part II (1995)</td>\n",
       "      <td>Comedy</td>\n",
       "      <td>1</td>\n",
       "      <td>2355</td>\n",
       "      <td>5</td>\n",
       "      <td>978824291</td>\n",
       "      <td>5.0</td>\n",
       "      <td>1</td>\n",
       "      <td>25.0</td>\n",
       "      <td>20.0</td>\n",
       "      <td>55455</td>\n",
       "      <td>20-29</td>\n",
       "    </tr>\n",
       "    <tr>\n",
       "      <th>4</th>\n",
       "      <td>6.0</td>\n",
       "      <td>Heat (1995)</td>\n",
       "      <td>Action|Crime|Thriller</td>\n",
       "      <td>1</td>\n",
       "      <td>1197</td>\n",
       "      <td>3</td>\n",
       "      <td>978302268</td>\n",
       "      <td>6.0</td>\n",
       "      <td>0</td>\n",
       "      <td>50.0</td>\n",
       "      <td>9.0</td>\n",
       "      <td>55117</td>\n",
       "      <td>50-59</td>\n",
       "    </tr>\n",
       "  </tbody>\n",
       "</table>\n",
       "</div>"
      ],
      "text/plain": [
       "   MovieIDs                           MovieName                      Category  \\\n",
       "0       2.0                      Jumanji (1995)  Adventure|Children's|Fantasy   \n",
       "1       3.0             Grumpier Old Men (1995)                Comedy|Romance   \n",
       "2       4.0            Waiting to Exhale (1995)                  Comedy|Drama   \n",
       "3       5.0  Father of the Bride Part II (1995)                        Comedy   \n",
       "4       6.0                         Heat (1995)         Action|Crime|Thriller   \n",
       "\n",
       "   UserID  MovieID  Rating  TimeStamp  UserID Gender   Age  Occupation  \\\n",
       "0       1      661       3  978302109     2.0      1  56.0        16.0   \n",
       "1       1      914       3  978301968     3.0      1  25.0        15.0   \n",
       "2       1     3408       4  978300275     4.0      1  45.0         7.0   \n",
       "3       1     2355       5  978824291     5.0      1  25.0        20.0   \n",
       "4       1     1197       3  978302268     6.0      0  50.0         9.0   \n",
       "\n",
       "  Zip-code Age Classes  \n",
       "0    70072       50-59  \n",
       "1    55117       20-29  \n",
       "2    02460       40-49  \n",
       "3    55455       20-29  \n",
       "4    55117       50-59  "
      ]
     },
     "execution_count": 25,
     "metadata": {},
     "output_type": "execute_result"
    }
   ],
   "source": [
    "# modifying Gender\n",
    "gender_dict= {'M': 1, 'F': 0}\n",
    "copy_df= extracted_record.copy() # making a copy of the original dataset for preservation\n",
    "copy_df.loc[:, 'Gender']= copy_df['Gender'].replace(gender_dict)\n",
    "copy_df.head()"
   ]
  },
  {
   "cell_type": "code",
   "execution_count": 26,
   "id": "61f881a0",
   "metadata": {
    "execution": {
     "iopub.execute_input": "2023-09-11T17:57:13.006747Z",
     "iopub.status.busy": "2023-09-11T17:57:13.006317Z",
     "iopub.status.idle": "2023-09-11T17:57:13.013629Z",
     "shell.execute_reply": "2023-09-11T17:57:13.012249Z"
    },
    "papermill": {
     "duration": 0.035708,
     "end_time": "2023-09-11T17:57:13.016067",
     "exception": false,
     "start_time": "2023-09-11T17:57:12.980359",
     "status": "completed"
    },
    "tags": []
   },
   "outputs": [],
   "source": [
    "# movie_id, age, occupation are features \n",
    "features= copy_df[['MovieID', 'Gender', 'Age', 'Occupation']].values "
   ]
  },
  {
   "cell_type": "code",
   "execution_count": 27,
   "id": "d918bd1c",
   "metadata": {
    "execution": {
     "iopub.execute_input": "2023-09-11T17:57:13.066545Z",
     "iopub.status.busy": "2023-09-11T17:57:13.066116Z",
     "iopub.status.idle": "2023-09-11T17:57:13.071938Z",
     "shell.execute_reply": "2023-09-11T17:57:13.070753Z"
    },
    "papermill": {
     "duration": 0.033949,
     "end_time": "2023-09-11T17:57:13.074336",
     "exception": false,
     "start_time": "2023-09-11T17:57:13.040387",
     "status": "completed"
    },
    "tags": []
   },
   "outputs": [],
   "source": [
    "labels= copy_df['Rating'].values   "
   ]
  },
  {
   "cell_type": "code",
   "execution_count": 28,
   "id": "80b91b5c",
   "metadata": {
    "execution": {
     "iopub.execute_input": "2023-09-11T17:57:13.123817Z",
     "iopub.status.busy": "2023-09-11T17:57:13.123375Z",
     "iopub.status.idle": "2023-09-11T17:57:13.130386Z",
     "shell.execute_reply": "2023-09-11T17:57:13.129145Z"
    },
    "papermill": {
     "duration": 0.035001,
     "end_time": "2023-09-11T17:57:13.133014",
     "exception": false,
     "start_time": "2023-09-11T17:57:13.098013",
     "status": "completed"
    },
    "tags": []
   },
   "outputs": [],
   "source": [
    "# splitting the dataframe into train and test\n",
    "x_train, x_test, y_train, y_test= train_test_split(features, labels, test_size= 0.2, random_state= 1)"
   ]
  },
  {
   "cell_type": "code",
   "execution_count": 29,
   "id": "7f7533fe",
   "metadata": {
    "execution": {
     "iopub.execute_input": "2023-09-11T17:57:13.183060Z",
     "iopub.status.busy": "2023-09-11T17:57:13.182638Z",
     "iopub.status.idle": "2023-09-11T17:57:13.597668Z",
     "shell.execute_reply": "2023-09-11T17:57:13.596251Z"
    },
    "papermill": {
     "duration": 0.444404,
     "end_time": "2023-09-11T17:57:13.601810",
     "exception": false,
     "start_time": "2023-09-11T17:57:13.157406",
     "status": "completed"
    },
    "tags": []
   },
   "outputs": [
    {
     "data": {
      "image/png": "[encoded data removed]",
      "text/plain": [
       "<Figure size 1000x800 with 2 Axes>"
      ]
     },
     "metadata": {},
     "output_type": "display_data"
    }
   ],
   "source": [
    "# correlation heatmap\n",
    "features= copy_df[['MovieID', 'Gender', 'Age', 'Occupation', 'Rating']]\n",
    "corr_matrix= features.corr()\n",
    "plt.figure(figsize =(10, 8))\n",
    "sns.heatmap(corr_matrix, annot= True, center= 0)\n",
    "plt.title('Correlation Heatmap')\n",
    "plt.show()"
   ]
  },
  {
   "cell_type": "code",
   "execution_count": 30,
   "id": "3be845f8",
   "metadata": {
    "execution": {
     "iopub.execute_input": "2023-09-11T17:57:13.653512Z",
     "iopub.status.busy": "2023-09-11T17:57:13.652819Z",
     "iopub.status.idle": "2023-09-11T17:57:14.011470Z",
     "shell.execute_reply": "2023-09-11T17:57:14.010263Z"
    },
    "papermill": {
     "duration": 0.387176,
     "end_time": "2023-09-11T17:57:14.013993",
     "exception": false,
     "start_time": "2023-09-11T17:57:13.626817",
     "status": "completed"
    },
    "tags": []
   },
   "outputs": [
    {
     "data": {
      "text/plain": [
       "Text(0.5, 0, 'Gender')"
      ]
     },
     "execution_count": 30,
     "metadata": {},
     "output_type": "execute_result"
    },
    {
     "data": {
      "image/png": "[encoded data removed]",
      "text/plain": [
       "<Figure size 640x480 with 1 Axes>"
      ]
     },
     "metadata": {},
     "output_type": "display_data"
    }
   ],
   "source": [
    "# plotting a histogram for gender\n",
    "copy_df.Gender.plot.hist()\n",
    "plt.title(\"Gender Plot\")\n",
    "plt.ylabel('Count')\n",
    "plt.xlabel('Gender')"
   ]
  },
  {
   "cell_type": "code",
   "execution_count": 31,
   "id": "3e7a02f1",
   "metadata": {
    "execution": {
     "iopub.execute_input": "2023-09-11T17:57:14.069150Z",
     "iopub.status.busy": "2023-09-11T17:57:14.068390Z",
     "iopub.status.idle": "2023-09-11T17:57:14.434220Z",
     "shell.execute_reply": "2023-09-11T17:57:14.433037Z"
    },
    "papermill": {
     "duration": 0.397239,
     "end_time": "2023-09-11T17:57:14.436843",
     "exception": false,
     "start_time": "2023-09-11T17:57:14.039604",
     "status": "completed"
    },
    "tags": []
   },
   "outputs": [
    {
     "data": {
      "text/plain": [
       "Text(0.5, 0, 'Age')"
      ]
     },
     "execution_count": 31,
     "metadata": {},
     "output_type": "execute_result"
    },
    {
     "data": {
      "image/png": "[encoded data removed]",
      "text/plain": [
       "<Figure size 640x480 with 1 Axes>"
      ]
     },
     "metadata": {},
     "output_type": "display_data"
    }
   ],
   "source": [
    "# plotting a histogram for age\n",
    "copy_df.Age.plot.hist(bins= 25)\n",
    "plt.title(\"Age Plot\")\n",
    "plt.ylabel('Count')\n",
    "plt.xlabel('Age')"
   ]
  },
  {
   "cell_type": "code",
   "execution_count": 32,
   "id": "14cd6e22",
   "metadata": {
    "execution": {
     "iopub.execute_input": "2023-09-11T17:57:14.490717Z",
     "iopub.status.busy": "2023-09-11T17:57:14.490211Z",
     "iopub.status.idle": "2023-09-11T17:57:14.885693Z",
     "shell.execute_reply": "2023-09-11T17:57:14.884569Z"
    },
    "papermill": {
     "duration": 0.425625,
     "end_time": "2023-09-11T17:57:14.888327",
     "exception": false,
     "start_time": "2023-09-11T17:57:14.462702",
     "status": "completed"
    },
    "tags": []
   },
   "outputs": [
    {
     "data": {
      "text/plain": [
       "Text(0.5, 0, 'Occupation')"
      ]
     },
     "execution_count": 32,
     "metadata": {},
     "output_type": "execute_result"
    },
    {
     "data": {
      "image/png": "[encoded data removed]",
      "text/plain": [
       "<Figure size 640x480 with 1 Axes>"
      ]
     },
     "metadata": {},
     "output_type": "display_data"
    }
   ],
   "source": [
    "# plotting a histogram for occupation\n",
    "copy_df.Occupation.plot.hist(bins= 25)\n",
    "plt.title(\"Occupation Plot\")\n",
    "plt.ylabel('Count')\n",
    "plt.xlabel('Occupation')"
   ]
  },
  {
   "cell_type": "code",
   "execution_count": 33,
   "id": "88c44119",
   "metadata": {
    "execution": {
     "iopub.execute_input": "2023-09-11T17:57:14.943179Z",
     "iopub.status.busy": "2023-09-11T17:57:14.942345Z",
     "iopub.status.idle": "2023-09-11T17:57:15.358440Z",
     "shell.execute_reply": "2023-09-11T17:57:15.356349Z"
    },
    "papermill": {
     "duration": 0.446559,
     "end_time": "2023-09-11T17:57:15.361233",
     "exception": false,
     "start_time": "2023-09-11T17:57:14.914674",
     "status": "completed"
    },
    "tags": []
   },
   "outputs": [
    {
     "data": {
      "text/plain": [
       "Text(0.5, 0, 'MovieID')"
      ]
     },
     "execution_count": 33,
     "metadata": {},
     "output_type": "execute_result"
    },
    {
     "data": {
      "image/png": "[encoded data removed]",
      "text/plain": [
       "<Figure size 640x480 with 1 Axes>"
      ]
     },
     "metadata": {},
     "output_type": "display_data"
    }
   ],
   "source": [
    "# plotting a histogram for movie id\n",
    "copy_df.MovieID.plot.hist(bins= 25)\n",
    "plt.title(\"Movie ID Plot\")\n",
    "plt.ylabel('Count')\n",
    "plt.xlabel('MovieID')"
   ]
  },
  {
   "cell_type": "code",
   "execution_count": 34,
   "id": "f0c7ea0d",
   "metadata": {
    "execution": {
     "iopub.execute_input": "2023-09-11T17:57:15.417833Z",
     "iopub.status.busy": "2023-09-11T17:57:15.417422Z",
     "iopub.status.idle": "2023-09-11T17:57:15.508610Z",
     "shell.execute_reply": "2023-09-11T17:57:15.507157Z"
    },
    "papermill": {
     "duration": 0.122984,
     "end_time": "2023-09-11T17:57:15.511391",
     "exception": false,
     "start_time": "2023-09-11T17:57:15.388407",
     "status": "completed"
    },
    "tags": []
   },
   "outputs": [
    {
     "name": "stdout",
     "output_type": "stream",
     "text": [
      "38.88\n"
     ]
    }
   ],
   "source": [
    "# Support Vector Machines (SVC)\n",
    "svc= SVC()\n",
    "svc.fit(x_train, y_train) # fit the model on training data\n",
    "y_predict= svc.predict(x_test)\n",
    "accuracy_score_svc= round(svc.score(x_train, y_train) * 100, 2)\n",
    "print(accuracy_score_svc)"
   ]
  },
  {
   "cell_type": "code",
   "execution_count": 35,
   "id": "540142b6",
   "metadata": {
    "execution": {
     "iopub.execute_input": "2023-09-11T17:57:15.567768Z",
     "iopub.status.busy": "2023-09-11T17:57:15.566681Z",
     "iopub.status.idle": "2023-09-11T17:57:15.581578Z",
     "shell.execute_reply": "2023-09-11T17:57:15.580188Z"
    },
    "papermill": {
     "duration": 0.046137,
     "end_time": "2023-09-11T17:57:15.584171",
     "exception": false,
     "start_time": "2023-09-11T17:57:15.538034",
     "status": "completed"
    },
    "tags": []
   },
   "outputs": [
    {
     "name": "stdout",
     "output_type": "stream",
     "text": [
      "99.62\n"
     ]
    }
   ],
   "source": [
    "# Decision Tree\n",
    "decision_tree= DecisionTreeClassifier()\n",
    "decision_tree.fit(x_train, y_train) # fit the model on training data\n",
    "y_predict= decision_tree.predict(x_test)\n",
    "accuracy_decision_tree= round(decision_tree.score(x_train, y_train) * 100, 2)\n",
    "print(accuracy_decision_tree)"
   ]
  },
  {
   "cell_type": "code",
   "execution_count": 36,
   "id": "c974061a",
   "metadata": {
    "execution": {
     "iopub.execute_input": "2023-09-11T17:57:15.640234Z",
     "iopub.status.busy": "2023-09-11T17:57:15.639789Z",
     "iopub.status.idle": "2023-09-11T17:57:15.845056Z",
     "shell.execute_reply": "2023-09-11T17:57:15.843819Z"
    },
    "papermill": {
     "duration": 0.236231,
     "end_time": "2023-09-11T17:57:15.847770",
     "exception": false,
     "start_time": "2023-09-11T17:57:15.611539",
     "status": "completed"
    },
    "tags": []
   },
   "outputs": [
    {
     "name": "stdout",
     "output_type": "stream",
     "text": [
      "36.25\n"
     ]
    }
   ],
   "source": [
    "# K Nearest Neigbours Classifier\n",
    "KN= KNeighborsClassifier(n_neighbors= 500)\n",
    "KN.fit(x_train, y_train) # fit the model on training data\n",
    "y_predict= KN.predict(x_test)\n",
    "accuracy_KN= round(KN.score(x_train, y_train) * 100, 2)\n",
    "print(accuracy_KN)"
   ]
  },
  {
   "cell_type": "code",
   "execution_count": 37,
   "id": "af2f4156",
   "metadata": {
    "execution": {
     "iopub.execute_input": "2023-09-11T17:57:15.904184Z",
     "iopub.status.busy": "2023-09-11T17:57:15.903537Z",
     "iopub.status.idle": "2023-09-11T17:57:16.286161Z",
     "shell.execute_reply": "2023-09-11T17:57:16.284856Z"
    },
    "papermill": {
     "duration": 0.413972,
     "end_time": "2023-09-11T17:57:16.288765",
     "exception": false,
     "start_time": "2023-09-11T17:57:15.874793",
     "status": "completed"
    },
    "tags": []
   },
   "outputs": [
    {
     "name": "stdout",
     "output_type": "stream",
     "text": [
      "99.62\n"
     ]
    }
   ],
   "source": [
    "# Random Forest Classifier\n",
    "random_forest= RandomForestClassifier(n_estimators= 100)\n",
    "random_forest.fit(x_train, y_train) # fit the model on training data\n",
    "y_predict= random_forest.predict(x_test)\n",
    "random_forest.score(x_train, y_train)\n",
    "accuracy_random_forest= round(random_forest.score(x_train, y_train) * 100, 2)\n",
    "print(accuracy_random_forest)"
   ]
  },
  {
   "cell_type": "code",
   "execution_count": 38,
   "id": "f5cdd2a6",
   "metadata": {
    "execution": {
     "iopub.execute_input": "2023-09-11T17:57:16.344801Z",
     "iopub.status.busy": "2023-09-11T17:57:16.344417Z",
     "iopub.status.idle": "2023-09-11T17:57:16.753503Z",
     "shell.execute_reply": "2023-09-11T17:57:16.752712Z"
    },
    "papermill": {
     "duration": 0.440101,
     "end_time": "2023-09-11T17:57:16.756079",
     "exception": false,
     "start_time": "2023-09-11T17:57:16.315978",
     "status": "completed"
    },
    "tags": []
   },
   "outputs": [
    {
     "name": "stdout",
     "output_type": "stream",
     "text": [
      "37.0\n"
     ]
    }
   ],
   "source": [
    "# Logistic Regression\n",
    "lr= LogisticRegression(max_iter= 20000)\n",
    "lr.fit(x_train, y_train)\n",
    "y_predict= lr.predict(x_test)\n",
    "accuracy_lr= round(lr.score(x_train, y_train) * 100, 2)\n",
    "print(accuracy_lr)"
   ]
  },
  {
   "cell_type": "code",
   "execution_count": 39,
   "id": "526cdcbc",
   "metadata": {
    "execution": {
     "iopub.execute_input": "2023-09-11T17:57:16.813077Z",
     "iopub.status.busy": "2023-09-11T17:57:16.812433Z",
     "iopub.status.idle": "2023-09-11T17:57:16.826296Z",
     "shell.execute_reply": "2023-09-11T17:57:16.825009Z"
    },
    "papermill": {
     "duration": 0.044701,
     "end_time": "2023-09-11T17:57:16.828941",
     "exception": false,
     "start_time": "2023-09-11T17:57:16.784240",
     "status": "completed"
    },
    "tags": []
   },
   "outputs": [
    {
     "data": {
      "text/html": [
       "<div>\n",
       "<style scoped>\n",
       "    .dataframe tbody tr th:only-of-type {\n",
       "        vertical-align: middle;\n",
       "    }\n",
       "\n",
       "    .dataframe tbody tr th {\n",
       "        vertical-align: top;\n",
       "    }\n",
       "\n",
       "    .dataframe thead th {\n",
       "        text-align: right;\n",
       "    }\n",
       "</style>\n",
       "<table border=\"1\" class=\"dataframe\">\n",
       "  <thead>\n",
       "    <tr style=\"text-align: right;\">\n",
       "      <th></th>\n",
       "      <th>Model</th>\n",
       "      <th>Score</th>\n",
       "    </tr>\n",
       "  </thead>\n",
       "  <tbody>\n",
       "    <tr>\n",
       "      <th>2</th>\n",
       "      <td>Random Forest Classifier</td>\n",
       "      <td>99.62</td>\n",
       "    </tr>\n",
       "    <tr>\n",
       "      <th>3</th>\n",
       "      <td>Decision Tree Classifier</td>\n",
       "      <td>99.62</td>\n",
       "    </tr>\n",
       "    <tr>\n",
       "      <th>0</th>\n",
       "      <td>Support Vector Machines(SVC)</td>\n",
       "      <td>38.88</td>\n",
       "    </tr>\n",
       "    <tr>\n",
       "      <th>4</th>\n",
       "      <td>Logistic Regression</td>\n",
       "      <td>37.00</td>\n",
       "    </tr>\n",
       "    <tr>\n",
       "      <th>1</th>\n",
       "      <td>K Nearest Neighbours(KNN)</td>\n",
       "      <td>36.25</td>\n",
       "    </tr>\n",
       "  </tbody>\n",
       "</table>\n",
       "</div>"
      ],
      "text/plain": [
       "                          Model  Score\n",
       "2      Random Forest Classifier  99.62\n",
       "3      Decision Tree Classifier  99.62\n",
       "0  Support Vector Machines(SVC)  38.88\n",
       "4           Logistic Regression  37.00\n",
       "1     K Nearest Neighbours(KNN)  36.25"
      ]
     },
     "execution_count": 39,
     "metadata": {},
     "output_type": "execute_result"
    }
   ],
   "source": [
    "training_models= pd.DataFrame({'Model': ['Support Vector Machines(SVC)', 'K Nearest Neighbours(KNN)', 'Random Forest Classifier', 'Decision Tree Classifier', 'Logistic Regression'],'Score': [accuracy_score_svc, accuracy_KN, accuracy_random_forest, accuracy_decision_tree, accuracy_lr]})\n",
    "training_models.sort_values(by= 'Score', ascending= False)"
   ]
  },
  {
   "cell_type": "markdown",
   "id": "53f5803e",
   "metadata": {
    "papermill": {
     "duration": 0.027395,
     "end_time": "2023-09-11T17:57:16.884055",
     "exception": false,
     "start_time": "2023-09-11T17:57:16.856660",
     "status": "completed"
    },
    "tags": []
   },
   "source": [
    "Random Forest and Decision Tree Classifiers produce accuracy score of almost **99%**."
   ]
  }
 ],
 "kernelspec": {
  "display_name": "Python 3",
  "language": "python",
  "name": "python3"
 },
 "language_info": {
  "codemirror_mode": {
   "name": "ipython",
   "version": 3
  },
  "file_extension": ".py",
  "mimetype": "text/x-python",
  "name": "python",
  "nbconvert_exporter": "python",
  "pygments_lexer": "ipython3",
  "version": "3.6.4"
 },
 "metadata": {
  "kernelspec": {
   "display_name": "Python 3",
   "language": "python",
   "name": "python3"
  },
  "language_info": {
   "codemirror_mode": {
    "name": "ipython",
    "version": 3
   },
   "file_extension": ".py",
   "mimetype": "text/x-python",
   "name": "python",
   "nbconvert_exporter": "python",
   "pygments_lexer": "ipython3",
   "version": "3.10.12"
  },
  "papermill": {
   "default_parameters": {},
   "duration": 24.775934,
   "end_time": "2023-09-11T17:57:17.633433",
   "environment_variables": {},
   "exception": null,
   "input_path": "__notebook__.ipynb",
   "output_path": "__notebook__.ipynb",
   "parameters": {},
   "start_time": "2023-09-11T17:56:52.857499",
   "version": "2.4.0"
  }
 },
 "nbformat": 4,
 "nbformat_minor": 5
}
